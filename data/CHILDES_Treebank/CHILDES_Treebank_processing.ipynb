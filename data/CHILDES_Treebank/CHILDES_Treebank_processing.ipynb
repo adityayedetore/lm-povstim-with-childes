{
 "cells": [
  {
   "cell_type": "code",
   "execution_count": 1,
   "metadata": {},
   "outputs": [],
   "source": [
    "# All the \"relevant\" input files\n",
    "# I have \"relevant\" in quotes because I don't remember\n",
    "# how I picked these files. So you should probably redownload the\n",
    "# CHILDES treebank yourself and familiarize yourself with it\n",
    "# to be sure this is right\n",
    "\n",
    "folder_name = \"childes-treebank-parse-trees/\"\n",
    "\n",
    "fi1 = open(folder_name + \"brown-adam.parsed\", \"r\")\n",
    "fi2 = open(folder_name + \"brown-eve+animacy+theta.parsed\", \"r\")\n",
    "fi3 = open(folder_name + \"brown-sarah.parsed\", \"r\")\n",
    "fi4 = open(folder_name + \"soderstrom.parsed\", \"r\")\n",
    "fi5 = open(folder_name + \"suppes.parsed\", \"r\")\n",
    "fi6 = open(folder_name + \"valian+animacy+theta.parsed\", \"r\")\n",
    "\n",
    "trees = []\n",
    "tree = \"\"\n",
    "\n",
    "# Iterate over all the files\n",
    "for fi in [fi1, fi2, fi3, fi4, fi5, fi6]:\n",
    "    # Iterate over the lines in this file to add trees to the list of trees\n",
    "    for line in fi:\n",
    "        # If you have completed a tree, add it to the list of trees\n",
    "        if line.strip() == \"\":\n",
    "            if tree.strip() != \"\" and tree.count(\")\") == tree.count(\"(\") and tree.count(\"ROOT\") == 1:\n",
    "                trees.append(tree)\n",
    "            #print(tree)\n",
    "            tree = \"\"\n",
    "            #break\n",
    "        else:\n",
    "            tree += line.strip()\n"
   ]
  },
  {
   "cell_type": "code",
   "execution_count": 2,
   "metadata": {},
   "outputs": [
    {
     "data": {
      "image/png": "[encoded data removed]",
      "text/plain": [
       "Tree('ROOT', [Tree('NP', [Tree('N', ['John'])]), Tree('VP', [Tree('V', ['slept'])])])"
      ]
     },
     "execution_count": 2,
     "metadata": {},
     "output_type": "execute_result"
    }
   ],
   "source": [
    "# NLTK tools for processing trees. You will need to have NLTK installed \n",
    "# to import this.\n",
    "from nltk.tree import *\n",
    "\n",
    "# Example of the NLTK tools\n",
    "Tree.fromstring(\"(ROOT (NP (N John)) (VP (V slept)))\")"
   ]
  },
  {
   "cell_type": "code",
   "execution_count": 3,
   "metadata": {},
   "outputs": [],
   "source": [
    "# Creating an output file with all sentences (not trees,\n",
    "# just sentences) from the input files\n",
    "fo = open(\"childes.allsents\", \"w\")\n",
    "treesPrime = []\n",
    "\n",
    "# Loop over the trees\n",
    "for tree in trees:\n",
    "    \n",
    "    # I think this \"if\" condition is to check if the tree is complete\n",
    "    # in some way? \n",
    "    if tree[-1] == \")\" and tree[0] == \"(\":\n",
    "        # Get the list of words in the tree, i.e. its leaves\n",
    "        words = (Tree.fromstring(tree)).leaves()\n",
    "        \n",
    "        # Now we filter the words, because the treebank contains some\n",
    "        # null elements we want to ignore\n",
    "        wordsFiltered = []\n",
    "        for word in words:\n",
    "            if \"*\" not in word:\n",
    "                wordsFiltered.append(word)\n",
    "        fo.write(\" \".join(wordsFiltered) + \"\\n\")\n",
    "        \n",
    "        # I don't remeber what this is doing\n",
    "        if \"\\\\\" not in tree:\n",
    "            treesPrime.append(tree)"
   ]
  },
  {
   "cell_type": "code",
   "execution_count": 4,
   "metadata": {},
   "outputs": [
    {
     "data": {
      "text/plain": [
       "'(ROOT(FRAG(NP(JJ big)(NN drum))(. ?)))'"
      ]
     },
     "execution_count": 4,
     "metadata": {},
     "output_type": "execute_result"
    }
   ],
   "source": [
    "# The next few cells are just me playing around with NLTK tree \n",
    "# functions and getting a feel of how the trees are structured \n",
    "# in the treebank\n",
    "treesPrime[0]"
   ]
  },
  {
   "cell_type": "code",
   "execution_count": 5,
   "metadata": {},
   "outputs": [
    {
     "data": {
      "text/plain": [
       "\"(ROOT(SQ(NP(PRP you))(VP(AUX 're)(VP(VBG turning)(NP(PRP it))(PRT(RP over))))(. ?)))\""
      ]
     },
     "execution_count": 5,
     "metadata": {},
     "output_type": "execute_result"
    }
   ],
   "source": [
    "trees[1735]"
   ]
  },
  {
   "cell_type": "code",
   "execution_count": 6,
   "metadata": {},
   "outputs": [
    {
     "data": {
      "image/png": "[encoded data removed]",
      "text/plain": [
       "Tree('ROOT', [Tree('SQ', [Tree('NP', [Tree('PRP', ['you'])]), Tree('VP', [Tree('AUX', [\"'re\"]), Tree('VP', [Tree('VBG', ['turning']), Tree('NP', [Tree('PRP', ['it'])]), Tree('PRT', [Tree('RP', ['over'])])])]), Tree('.', ['?'])])])"
      ]
     },
     "execution_count": 6,
     "metadata": {},
     "output_type": "execute_result"
    }
   ],
   "source": [
    "exp = Tree.fromstring(trees[1735])\n",
    "exp"
   ]
  },
  {
   "cell_type": "code",
   "execution_count": 7,
   "metadata": {},
   "outputs": [
    {
     "data": {
      "text/plain": [
       "['SQ']"
      ]
     },
     "execution_count": 7,
     "metadata": {},
     "output_type": "execute_result"
    }
   ],
   "source": [
    "labels = [child.label() for child in exp]\n",
    "labels\n"
   ]
  },
  {
   "cell_type": "code",
   "execution_count": 8,
   "metadata": {},
   "outputs": [
    {
     "data": {
      "text/plain": [
       "'ROOT'"
      ]
     },
     "execution_count": 8,
     "metadata": {},
     "output_type": "execute_result"
    }
   ],
   "source": [
    "exp.label() # Gives the label of the tree's root"
   ]
  },
  {
   "cell_type": "code",
   "execution_count": 9,
   "metadata": {},
   "outputs": [
    {
     "name": "stdout",
     "output_type": "stream",
     "text": [
      "NP\n",
      "VP\n",
      ".\n"
     ]
    },
    {
     "data": {
      "text/plain": [
       "['NP', 'VP', '.']"
      ]
     },
     "execution_count": 9,
     "metadata": {},
     "output_type": "execute_result"
    }
   ],
   "source": [
    "for child in exp[0]:\n",
    "    print(child.label())\n",
    "\n",
    "labels = [child.label() for child in exp[0]]\n",
    "labels"
   ]
  },
  {
   "cell_type": "code",
   "execution_count": 10,
   "metadata": {},
   "outputs": [],
   "source": [
    "# Method to de-question-ify a question; that is, to turn a \n",
    "# question into a declarative. I'm afraid I don't remember\n",
    "# exactly how this is working.\n",
    "def deQuest(tree):\n",
    "    \n",
    "    result = []\n",
    "    \n",
    "    # Check for a couple of cases that don't work (I forget\n",
    "    # exactly why they don't work)\n",
    "    good = 1\n",
    "    if len(tree[0]) != 2:\n",
    "        good = 0\n",
    "    elif tree[0][0].label() != \"VP\" and tree[0][1].label() != \".\":\n",
    "        good = 0\n",
    "        \n",
    "    # This for loop is where the heavy lifting happens.\n",
    "    # It is based on the NLTK tree methods, building on some\n",
    "    # analysis of how the relevant trees are structured in the treebank.\n",
    "    # But to understand what is going on you would probably need to work through \n",
    "    # some examples. The key thing is this:\n",
    "    # - in the input tree, the auxiliary is at the top of the tree\n",
    "    # - in the output, we want the auxiliary to be returned to \n",
    "    #   its rightful place within the sentence\n",
    "    # One case to watch out for: Contractions are represented as 2 words,\n",
    "    # and you have to move both words. e.g., \"do n't you think so ?\" -> \"you do n't think so .\"\n",
    "    for child in tree[0]:\n",
    "        if child.label() == \"VP\":\n",
    "            toAdd = []\n",
    "            added = 0\n",
    "            if \"NP\" in child[0].label():\n",
    "                good = 0\n",
    "            for kid in child:\n",
    "                if \"NP\" in kid.label() and not added:\n",
    "                    result += kid.leaves()\n",
    "                    result += toAdd\n",
    "                    added = 1\n",
    "                elif not added:\n",
    "                    toAdd += kid.leaves()\n",
    "                else:\n",
    "                    result += kid.leaves()\n",
    "                \n",
    "        else:\n",
    "            result += child.leaves()\n",
    "            \n",
    "    if good: \n",
    "        return result[:-1] + [\".\"]\n",
    "    else:\n",
    "        return \"WRONG\"\n",
    "    "
   ]
  },
  {
   "cell_type": "code",
   "execution_count": 11,
   "metadata": {},
   "outputs": [
    {
     "name": "stdout",
     "output_type": "stream",
     "text": [
      "10000\n",
      "20000\n",
      "30000\n",
      "40000\n",
      "50000\n",
      "60000\n",
      "70000\n",
      "80000\n",
      "90000\n",
      "100000\n",
      "110000\n",
      "120000\n",
      "130000\n",
      "140000\n",
      "150000\n",
      "160000\n",
      "170000\n",
      "0 18779 0 0 173739\n"
     ]
    }
   ],
   "source": [
    "# In this block, we generate input-output pairs from all\n",
    "# of our sentences. If the sentence is a yes-no question,\n",
    "# the input is the de-questionified version of the question,\n",
    "# while the output is the question. Otherwise, the input and\n",
    "# the output are both the sentence. \n",
    "# For our current purposes, I think we only need the yes-no\n",
    "# questions. So you can ignore the sentences that are not\n",
    "# yes-no questions.\n",
    "counter = 0\n",
    "countQ = 0\n",
    "total = 0\n",
    "countIntj = 0\n",
    "countFrag = 0\n",
    "#foBoth = open(\"done-childes.decl-quest\" + the_filename + \".txt\", \"w\")\n",
    "foBoth = open(\"childes.decl-quest.txt\", \"w\")\n",
    "\n",
    "\n",
    "# I'm sure that all the \"if\"s here are checking for\n",
    "# various edge cases, but I forget which edge cases they all are\n",
    "for tree in treesPrime:\n",
    "    okay = True\n",
    "    if tree.count(\"(\") > 2:\n",
    "        total += 1\n",
    "        newTree = Tree.fromstring(tree) \n",
    "        for child in newTree[0]:\n",
    "            if isinstance(child, str):\n",
    "                okay = False\n",
    "        if okay:\n",
    "            \n",
    "            if total % 10000 == 0:\n",
    "                print(total)\n",
    "            labels = [child.label() for child in newTree[0]]\n",
    "            \n",
    "            # So I think that this is the condition that you can use to check if a \n",
    "            # tree is a yes-no question\n",
    "            if len(newTree) == 1 and newTree[0].label() == \"SQ\":\n",
    "                countQ += 1\n",
    "                treeEdit = []\n",
    "                \n",
    "                # This is to get rid of the unpronounced words that are in some\n",
    "                # of the trees\n",
    "                for node in newTree.leaves():\n",
    "                    if \"*\" not in node:\n",
    "                        treeEdit.append(node)\n",
    "                        \n",
    "                \n",
    "                # Here we generate the declarative from the question.\n",
    "                declForm = []\n",
    "                if deQuest(newTree) != \"WRONG\":\n",
    "                    if treeEdit[0] in [\"do\", \"does\", \"did\", \"is\", \"was\", \"are\", \"were\", \"am\", \"has\", \"have\", \"had\", \n",
    "                                           \"can\", \"may\", \"might\", \"must\", \"will\", \"wo\", \"shall\", \"would\", \"could\", \"should\"]:\n",
    "                        #print(treeEdit)\n",
    "                        for node in deQuest(newTree):\n",
    "                            if \"*\" not in node:\n",
    "                                declForm.append(node)\n",
    "                        foBoth.write(\" \".join(declForm) + \"\\t\" + \" \".join(treeEdit) + \"\\n\")\n",
    "                \n",
    "\n",
    "print(counter, countQ, countIntj, countFrag, total)"
   ]
  },
  {
   "cell_type": "code",
   "execution_count": null,
   "metadata": {},
   "outputs": [],
   "source": []
  }
 ],
 "metadata": {
  "kernelspec": {
   "display_name": "Python 3",
   "language": "python",
   "name": "python3"
  },
  "language_info": {
   "codemirror_mode": {
    "name": "ipython",
    "version": 3
   },
   "file_extension": ".py",
   "mimetype": "text/x-python",
   "name": "python",
   "nbconvert_exporter": "python",
   "pygments_lexer": "ipython3",
   "version": "3.7.4"
  }
 },
 "nbformat": 4,
 "nbformat_minor": 2
}
