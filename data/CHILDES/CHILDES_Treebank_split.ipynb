{
 "cells": [
  {
   "cell_type": "markdown",
   "metadata": {},
   "source": [
    "## Edit tokenization \n",
    "\n",
    "The CHILDES Treebank contains inconsistent tokenization. Here we try to fix that. "
   ]
  },
  {
   "cell_type": "code",
   "execution_count": null,
   "metadata": {},
   "outputs": [],
   "source": [
    "import pandas as pd\n",
    "\n",
    "def edit_tokenization(corpus_string):\n",
    "    corpus_string_edited = corpus_string.replace(\" 't \", \" n't \")\n",
    "    for letter in \"abcdefghijklmnopqrstuvwxyz\":\n",
    "        corpus_string_edited = corpus_string_edited.replace(\" \" + letter + \"l \", \" \" + letter + \" \")\n",
    "        corpus_string_edited = corpus_string_edited.replace(\"\\n\" + letter + \"l \", \"\\n\" + letter + \" \")\n",
    "    corpus_string_edited = corpus_string_edited.replace(\" cha \", \" you \")\n",
    "    corpus_string_edited = corpus_string_edited.replace(\"\\ncha \", \"\\nyou \")\n",
    "    corpus_string_edited = corpus_string_edited.replace(\"okay \", \"ok \")\n",
    "    corpus_string_edited = corpus_string_edited.replace(\"hmm \", \"hm \")\n",
    "    corpus_string_edited = corpus_string_edited.replace(\"will n't \", \"wo n't \")\n",
    "    corpus_string_edited = corpus_string_edited.replace(\"ING\", \"ing\")\n",
    "    return corpus_string_edited\n",
    "\n",
    "with open (\"treebank-decl-quest.txt\") as f:\n",
    "    treebank_decl_quest = f.read()\n",
    "treebank_decl_quest_edited = edit_tokenization(treebank_decl_quest)\n",
    "with open (\"treebank-decl-quest-edited.txt\", 'w') as f:\n",
    "    f.write(treebank_decl_quest_edited)\n",
    "    \n",
    "with open (\"treebank-allsents.txt\") as f:\n",
    "    treebank_allsents = f.read()\n",
    "treebank_allsents_edited = edit_tokenization(treebank_allsents)\n",
    "with open (\"treebank-allsents-edited.txt\", 'w') as f:\n",
    "    f.write(treebank_allsents_edited)"
   ]
  },
  {
   "cell_type": "markdown",
   "metadata": {},
   "source": [
    "# Checking tokenization differences\n",
    "\n",
    "The way that the test set is created is by searching for all the questions in the CHILDES Treebank that were in the excluded set (ignoring capitalization and punctuation). If there are tokenization differences other than punctuation, then the comparison is invalid. So here we try to find differences between the two. \n",
    "\n",
    "`childes-treebank-allsents.txt` contains all the sentences in `childes-xml` from the corpora that are in the CHILDES_Treebank. If there are questions that are not in `childes-treebank-allsents.txt` (ignoring punctuation), then there is a tokenization difference, or possibly a data processing problem. \n",
    "\n",
    "Below I loop through all the yes/no questions in the CHILDES Treebank and print the ones that are not in `childes-treebank-allsents.txt`. "
   ]
  },
  {
   "cell_type": "code",
   "execution_count": null,
   "metadata": {},
   "outputs": [],
   "source": [
    "import pandas as pd\n",
    "\n",
    "def to_alnum(string):\n",
    "    return ''.join(e.lower() for e in string if e.isalnum() or e == \"\\n\")\n",
    "\n",
    "with open (\"childes-treebank.txt\") as f:\n",
    "    childes_treebank_alnum = set(to_alnum(f.read()).replace('xxx','').splitlines())\n",
    "    \n",
    "with open (\"treebank-allsents-edited.txt\") as f:\n",
    "    treebank_allsents_edited_alnum = f.read().splitlines()\n",
    "\n",
    "count = 0\n",
    "for sent in treebank_allsents_edited_alnum:\n",
    "    if to_alnum(sent) not in childes_treebank_alnum:\n",
    "        print(sent)\n",
    "        count += 1\n",
    "\n",
    "print(count/len(treebank_allsents_edited_alnum))\n",
    "print(count,len(treebank_allsents_edited_alnum))"
   ]
  },
  {
   "cell_type": "code",
   "execution_count": null,
   "metadata": {},
   "outputs": [],
   "source": [
    "quest = list(pd.read_table(\"treebank-decl-quest-edited.txt\", header=None)[1])\n",
    "\n",
    "count = 0\n",
    "for q in quest:\n",
    "    if to_alnum(q) not in childes_treebank_alnum:# and \"supposed\" not in q:\n",
    "        print(q)\n",
    "        count += 1\n",
    "\n",
    "print(count/len(quest))\n",
    "print(count,len(quest))"
   ]
  },
  {
   "cell_type": "markdown",
   "metadata": {},
   "source": [
    "# Splitting CHILDES Treebank \n",
    "\n",
    "The following script splits the treebank data into training, validation and test sets for finetuning. \n",
    "\n",
    "The test set is comprised of questions that were held out from pretraining, found in `excluded.txt`."
   ]
  },
  {
   "cell_type": "code",
   "execution_count": null,
   "metadata": {},
   "outputs": [],
   "source": [
    "def split_treebank(excluded, decl, quest):\n",
    "    excluded_alnum = set(to_alnum([\"\".join s for s in excluded])\n",
    "\n",
    "    train = []\n",
    "    valid = []\n",
    "    test = []\n",
    "\n",
    "    for i,q in enumerate(quest):\n",
    "        if to_alnum(q) in excluded_alnum:\n",
    "            test.append(decl[i] + \" \" +   quest[i] + \"\\n\")\n",
    "\n",
    "    len_test = len(test)\n",
    "    len_valid = 0\n",
    "    for i in range(0, len(quest)):\n",
    "        if decl[i] + \" \" + quest[i] + \"\\n\" not in test :\n",
    "            if i % 10 == 0 and len_valid <= len_test:\n",
    "                valid.append(decl[i] + \" \" + quest[i] + \"\\n\")\n",
    "                len_valid += 1\n",
    "            else:\n",
    "                train.append(decl[i] + \" \" + quest[i] + \"\\n\")\n",
    "                         \n",
    "    return train, valid, test"
   ]
  }
 ],
 "metadata": {
  "kernelspec": {
   "display_name": "Python 3",
   "language": "python",
   "name": "python3"
  },
  "language_info": {
   "codemirror_mode": {
    "name": "ipython",
    "version": 3
   },
   "file_extension": ".py",
   "mimetype": "text/x-python",
   "name": "python",
   "nbconvert_exporter": "python",
   "pygments_lexer": "ipython3",
   "version": "3.7.4"
  }
 },
 "nbformat": 4,
 "nbformat_minor": 4
}
