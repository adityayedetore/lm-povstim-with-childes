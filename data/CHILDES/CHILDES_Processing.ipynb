{
 "cells": [
  {
   "cell_type": "code",
   "execution_count": 1,
   "metadata": {},
   "outputs": [
    {
     "ename": "SyntaxError",
     "evalue": "import * only allowed at module level (CHILDES_Treebank_Processing.py, line 4)",
     "output_type": "error",
     "traceback": [
      "Traceback \u001b[0;36m(most recent call last)\u001b[0m:\n",
      "  File \u001b[1;32m\"/Users/adityayedetore/opt/anaconda3/lib/python3.7/site-packages/IPython/core/interactiveshell.py\"\u001b[0m, line \u001b[1;32m3331\u001b[0m, in \u001b[1;35mrun_code\u001b[0m\n    exec(code_obj, self.user_global_ns, self.user_ns)\n",
      "\u001b[0;36m  File \u001b[0;32m\"<ipython-input-1-8ecd654d01ff>\"\u001b[0;36m, line \u001b[0;32m3\u001b[0;36m, in \u001b[0;35m<module>\u001b[0;36m\u001b[0m\n\u001b[0;31m    from CHILDES_Treebank_Processing import process_childes_treebank\u001b[0m\n",
      "\u001b[0;36m  File \u001b[0;32m\"/Users/adityayedetore/Desktop/research/t/lm-povstim-with-childes/data/CHILDES/CHILDES_Treebank_Processing.py\"\u001b[0;36m, line \u001b[0;32m4\u001b[0m\n\u001b[0;31m    def process_childes_treebank(path_to_treebank=\"childes-treebank\"):\u001b[0m\n\u001b[0m                                                                      ^\u001b[0m\n\u001b[0;31mSyntaxError\u001b[0m\u001b[0;31m:\u001b[0m import * only allowed at module level\n"
     ]
    }
   ],
   "source": [
    "from CHILDES_xml_Processing import process_childes_xml\n",
    "from CHILDES_txt_Processing import clean_and_unk\n",
    "from CHILDES_Treebank_Processing import process_childes_treebank\n",
    "from CHILDES_Treebank_txt_Processing import split_treebank\n",
    "\n",
    "train_raw, valid_raw, test_raw, excluded_raw, treebank_raw = process_childes_xml(\"./\", \"childes-xml\")\n",
    "train, valid, test, excluded, treebank, vocab = clean_and_unk(train_raw, valid_raw, test_raw, excluded_raw, treebank_raw)\n",
    "decl, quest = process_childes_treebank(\"childes-treebank\")\n",
    "finetune_train, finetune_valid, finetune_test = split_treebank(excluded, decl, quest)"
   ]
  },
  {
   "cell_type": "code",
   "execution_count": null,
   "metadata": {},
   "outputs": [],
   "source": []
  }
 ],
 "metadata": {
  "kernelspec": {
   "display_name": "Python 3",
   "language": "python",
   "name": "python3"
  },
  "language_info": {
   "codemirror_mode": {
    "name": "ipython",
    "version": 3
   },
   "file_extension": ".py",
   "mimetype": "text/x-python",
   "name": "python",
   "nbconvert_exporter": "python",
   "pygments_lexer": "ipython3",
   "version": "3.7.4"
  }
 },
 "nbformat": 4,
 "nbformat_minor": 4
}
